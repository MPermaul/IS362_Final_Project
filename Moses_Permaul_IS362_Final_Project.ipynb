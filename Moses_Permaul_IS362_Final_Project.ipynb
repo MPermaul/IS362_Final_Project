{
 "cells": [
  {
   "cell_type": "markdown",
   "metadata": {
    "slideshow": {
     "slide_type": "slide"
    }
   },
   "source": [
    "# Moses Permaul - IS362 - Final Project\n",
    "\n",
    "The Covid-19 pandemic has changed the way we live our lives during 2020 and potentially in the future. It has changed our education system, our health care system, our way of working, the way we interact with each other, and our modes of transportation to name a few. This last aspect, modes of transportation, stands out to me being a NYC resident for the last 20 years. I have taken MTA transportation in every borough and would like to explore the impact Covid-19 has had on MTA ridership numbers. With Covid-19 cases increasing in New York City since the start of the pandemic, and various regulations/changes put in place, there has been without a doubt a massive impact. A comparison between ridership numbers from 2019 and 2020 will obviously show a massive change. Instead of trying to analyze this comparison, I’m more interested to find out if there is a correlation between the number of cases and day to day death rate on the ridership numbers.\n",
    "\n",
    "Using live updating data from The NY Times, as well as daily updated data from the MTA, I will try and answer the following question:\n",
    "\n",
    "> **Does the mortality rate of Covid-19 in New York City have a correlation to the MTA ridership numbers?**"
   ]
  },
  {
   "cell_type": "markdown",
   "metadata": {
    "slideshow": {
     "slide_type": "slide"
    }
   },
   "source": [
    "### Python Code for Imports and Reading the Data\n",
    "To begin, we will:\n",
    "1. Import the libraries needed.\n",
    "2. Build DataFrames using the NY Times and MTA URLs."
   ]
  },
  {
   "cell_type": "code",
   "execution_count": 1,
   "metadata": {
    "slideshow": {
     "slide_type": "subslide"
    }
   },
   "outputs": [],
   "source": [
    "# standard imports for matplotlib, numpy, pandas, and seaborn\n",
    "from matplotlib import pyplot as plt\n",
    "import numpy as np\n",
    "import pandas as pd\n",
    "import seaborn as sns\n",
    "\n",
    "# enable inline plotting\n",
    "%matplotlib inline\n",
    "\n",
    "# url links for NY Times Covid-19 Data, links for counties and state\n",
    "url_nytimes_counties = 'https://raw.githubusercontent.com/nytimes/covid-19-data/master/us-counties.csv'\n",
    "url_nytimes_state = 'https://raw.githubusercontent.com/nytimes/covid-19-data/master/us-states.csv'\n",
    "\n",
    "# url link for MTA Ridership numbers\n",
    "url_mta = 'https://new.mta.info/document/20441'\n",
    "\n",
    "# create DataFrame by reading the NY Times URLs\n",
    "df1 = pd.read_csv(url_nytimes_counties)\n",
    "df2 = pd.read_csv(url_nytimes_state)\n",
    "\n",
    "# create DataFrame by reading the MTA URL\n",
    "df3 = pd.read_csv(url_mta)\n",
    "\n",
    "# make a copy of DataFrames to preserve origanal imports\n",
    "df_counties = df1.copy()\n",
    "df_states = df2.copy()\n",
    "df_mta = df3.copy()"
   ]
  },
  {
   "cell_type": "markdown",
   "metadata": {
    "slideshow": {
     "slide_type": "slide"
    }
   },
   "source": [
    "<img src=\"NYT-wordmark.png\" alt=\"NYTimes Logo\" style=\"width: 300px;\"/>\n",
    "\n",
    "### NY Times Covid-19 State Dataframe\n",
    "#### 1. We will first display the first 5 rows of our NY Times state DataFrame to get an idea of what the data looks like."
   ]
  },
  {
   "cell_type": "code",
   "execution_count": 2,
   "metadata": {
    "slideshow": {
     "slide_type": "subslide"
    }
   },
   "outputs": [
    {
     "data": {
      "text/html": [
       "<div>\n",
       "<style scoped>\n",
       "    .dataframe tbody tr th:only-of-type {\n",
       "        vertical-align: middle;\n",
       "    }\n",
       "\n",
       "    .dataframe tbody tr th {\n",
       "        vertical-align: top;\n",
       "    }\n",
       "\n",
       "    .dataframe thead th {\n",
       "        text-align: right;\n",
       "    }\n",
       "</style>\n",
       "<table border=\"1\" class=\"dataframe\">\n",
       "  <thead>\n",
       "    <tr style=\"text-align: right;\">\n",
       "      <th></th>\n",
       "      <th>date</th>\n",
       "      <th>state</th>\n",
       "      <th>fips</th>\n",
       "      <th>cases</th>\n",
       "      <th>deaths</th>\n",
       "    </tr>\n",
       "  </thead>\n",
       "  <tbody>\n",
       "    <tr>\n",
       "      <th>0</th>\n",
       "      <td>2020-01-21</td>\n",
       "      <td>Washington</td>\n",
       "      <td>53</td>\n",
       "      <td>1</td>\n",
       "      <td>0</td>\n",
       "    </tr>\n",
       "    <tr>\n",
       "      <th>1</th>\n",
       "      <td>2020-01-22</td>\n",
       "      <td>Washington</td>\n",
       "      <td>53</td>\n",
       "      <td>1</td>\n",
       "      <td>0</td>\n",
       "    </tr>\n",
       "    <tr>\n",
       "      <th>2</th>\n",
       "      <td>2020-01-23</td>\n",
       "      <td>Washington</td>\n",
       "      <td>53</td>\n",
       "      <td>1</td>\n",
       "      <td>0</td>\n",
       "    </tr>\n",
       "    <tr>\n",
       "      <th>3</th>\n",
       "      <td>2020-01-24</td>\n",
       "      <td>Illinois</td>\n",
       "      <td>17</td>\n",
       "      <td>1</td>\n",
       "      <td>0</td>\n",
       "    </tr>\n",
       "    <tr>\n",
       "      <th>4</th>\n",
       "      <td>2020-01-24</td>\n",
       "      <td>Washington</td>\n",
       "      <td>53</td>\n",
       "      <td>1</td>\n",
       "      <td>0</td>\n",
       "    </tr>\n",
       "  </tbody>\n",
       "</table>\n",
       "</div>"
      ],
      "text/plain": [
       "         date       state  fips  cases  deaths\n",
       "0  2020-01-21  Washington    53      1       0\n",
       "1  2020-01-22  Washington    53      1       0\n",
       "2  2020-01-23  Washington    53      1       0\n",
       "3  2020-01-24    Illinois    17      1       0\n",
       "4  2020-01-24  Washington    53      1       0"
      ]
     },
     "execution_count": 2,
     "metadata": {},
     "output_type": "execute_result"
    }
   ],
   "source": [
    "# view first 5 rows\n",
    "df_states.head()"
   ]
  },
  {
   "cell_type": "markdown",
   "metadata": {
    "slideshow": {
     "slide_type": "slide"
    }
   },
   "source": [
    "**We have 5 columns:**\n",
    "\n",
    "* **date**: the date the data was reported\n",
    "* **state**: the state the county resides in\n",
    "* **fips**: a standard geographic identifier\n",
    "* **cases**: the total number of positive Covid-19 cases reported so far\n",
    "* **deaths**: the total number of deaths reported so far\n",
    "\n",
    "We can see one problem already with our data. The problem is that once a case is reported, it will continuoulsy be reported when there is another update to the data. This will make aggregation functions incorrect, and will throw off our analysis if not managed properly."
   ]
  },
  {
   "cell_type": "markdown",
   "metadata": {},
   "source": [
    "#### 2. To start, we will clean this data by converting the \"date\" column to type datetime and dropping the column \"fips\" as we aren't using it for our analysis."
   ]
  },
  {
   "cell_type": "code",
   "execution_count": 3,
   "metadata": {},
   "outputs": [
    {
     "data": {
      "text/html": [
       "<div>\n",
       "<style scoped>\n",
       "    .dataframe tbody tr th:only-of-type {\n",
       "        vertical-align: middle;\n",
       "    }\n",
       "\n",
       "    .dataframe tbody tr th {\n",
       "        vertical-align: top;\n",
       "    }\n",
       "\n",
       "    .dataframe thead th {\n",
       "        text-align: right;\n",
       "    }\n",
       "</style>\n",
       "<table border=\"1\" class=\"dataframe\">\n",
       "  <thead>\n",
       "    <tr style=\"text-align: right;\">\n",
       "      <th></th>\n",
       "      <th>date</th>\n",
       "      <th>state</th>\n",
       "      <th>cases</th>\n",
       "      <th>deaths</th>\n",
       "    </tr>\n",
       "  </thead>\n",
       "  <tbody>\n",
       "    <tr>\n",
       "      <th>0</th>\n",
       "      <td>2020-01-21</td>\n",
       "      <td>Washington</td>\n",
       "      <td>1</td>\n",
       "      <td>0</td>\n",
       "    </tr>\n",
       "    <tr>\n",
       "      <th>1</th>\n",
       "      <td>2020-01-22</td>\n",
       "      <td>Washington</td>\n",
       "      <td>1</td>\n",
       "      <td>0</td>\n",
       "    </tr>\n",
       "    <tr>\n",
       "      <th>2</th>\n",
       "      <td>2020-01-23</td>\n",
       "      <td>Washington</td>\n",
       "      <td>1</td>\n",
       "      <td>0</td>\n",
       "    </tr>\n",
       "    <tr>\n",
       "      <th>3</th>\n",
       "      <td>2020-01-24</td>\n",
       "      <td>Illinois</td>\n",
       "      <td>1</td>\n",
       "      <td>0</td>\n",
       "    </tr>\n",
       "    <tr>\n",
       "      <th>4</th>\n",
       "      <td>2020-01-24</td>\n",
       "      <td>Washington</td>\n",
       "      <td>1</td>\n",
       "      <td>0</td>\n",
       "    </tr>\n",
       "  </tbody>\n",
       "</table>\n",
       "</div>"
      ],
      "text/plain": [
       "        date       state  cases  deaths\n",
       "0 2020-01-21  Washington      1       0\n",
       "1 2020-01-22  Washington      1       0\n",
       "2 2020-01-23  Washington      1       0\n",
       "3 2020-01-24    Illinois      1       0\n",
       "4 2020-01-24  Washington      1       0"
      ]
     },
     "execution_count": 3,
     "metadata": {},
     "output_type": "execute_result"
    }
   ],
   "source": [
    "# convert the 'date' column to datetime format, errors param set to 'coerce'\n",
    "df_states.date = pd.to_datetime(df_states.date, errors='coerce')\n",
    "\n",
    "# drop \"fips\" column as it's not relevant\n",
    "df_states.drop(columns=['fips'], inplace=True)\n",
    "\n",
    "# view first 5 rows\n",
    "df_states.head()"
   ]
  },
  {
   "cell_type": "markdown",
   "metadata": {},
   "source": [
    "#### 3. In order to tackle our problem, we will sort our dataframe by \"date\" and then drop all duplicate states, keeping only the last entry. This should give us the last update per state which will have the lastest numbers.."
   ]
  },
  {
   "cell_type": "code",
   "execution_count": 4,
   "metadata": {},
   "outputs": [],
   "source": [
    "# resave our DataFrame with our sorted data\n",
    "df_states = df_states.sort_values('date').drop_duplicates('state', keep='last')"
   ]
  },
  {
   "cell_type": "markdown",
   "metadata": {},
   "source": [
    "The data is now clean and statistics can be performed on it."
   ]
  },
  {
   "cell_type": "markdown",
   "metadata": {},
   "source": [
    "### Analyzing the State Data\n",
    "#### 1. The data provided is for the 50 contenential states and its territories/commonwealths. We will calculate the Covid-19 death rate for each state/territory and then rank them to find out which 10 has the highest rate.\n",
    "\n",
    "##### Note: Population size is not taken into account for this analysis. For example, if a state had 1 case and 1 death, then the death rate will be 100%."
   ]
  },
  {
   "cell_type": "code",
   "execution_count": 5,
   "metadata": {},
   "outputs": [
    {
     "data": {
      "text/html": [
       "<div>\n",
       "<style scoped>\n",
       "    .dataframe tbody tr th:only-of-type {\n",
       "        vertical-align: middle;\n",
       "    }\n",
       "\n",
       "    .dataframe tbody tr th {\n",
       "        vertical-align: top;\n",
       "    }\n",
       "\n",
       "    .dataframe thead th {\n",
       "        text-align: right;\n",
       "    }\n",
       "</style>\n",
       "<table border=\"1\" class=\"dataframe\">\n",
       "  <thead>\n",
       "    <tr style=\"text-align: right;\">\n",
       "      <th></th>\n",
       "      <th>date</th>\n",
       "      <th>state</th>\n",
       "      <th>cases</th>\n",
       "      <th>deaths</th>\n",
       "      <th>death rate</th>\n",
       "    </tr>\n",
       "  </thead>\n",
       "  <tbody>\n",
       "    <tr>\n",
       "      <th>15722</th>\n",
       "      <td>2020-12-13</td>\n",
       "      <td>New York</td>\n",
       "      <td>780831</td>\n",
       "      <td>35198</td>\n",
       "      <td>4.507762</td>\n",
       "    </tr>\n",
       "    <tr>\n",
       "      <th>15720</th>\n",
       "      <td>2020-12-13</td>\n",
       "      <td>New Jersey</td>\n",
       "      <td>402518</td>\n",
       "      <td>17751</td>\n",
       "      <td>4.409989</td>\n",
       "    </tr>\n",
       "    <tr>\n",
       "      <th>15711</th>\n",
       "      <td>2020-12-13</td>\n",
       "      <td>Massachusetts</td>\n",
       "      <td>290578</td>\n",
       "      <td>11349</td>\n",
       "      <td>3.905664</td>\n",
       "    </tr>\n",
       "    <tr>\n",
       "      <th>15695</th>\n",
       "      <td>2020-12-13</td>\n",
       "      <td>Connecticut</td>\n",
       "      <td>146761</td>\n",
       "      <td>5363</td>\n",
       "      <td>3.654241</td>\n",
       "    </tr>\n",
       "    <tr>\n",
       "      <th>15697</th>\n",
       "      <td>2020-12-13</td>\n",
       "      <td>District of Columbia</td>\n",
       "      <td>24874</td>\n",
       "      <td>715</td>\n",
       "      <td>2.874487</td>\n",
       "    </tr>\n",
       "    <tr>\n",
       "      <th>15729</th>\n",
       "      <td>2020-12-13</td>\n",
       "      <td>Pennsylvania</td>\n",
       "      <td>495906</td>\n",
       "      <td>12613</td>\n",
       "      <td>2.543426</td>\n",
       "    </tr>\n",
       "    <tr>\n",
       "      <th>15708</th>\n",
       "      <td>2020-12-13</td>\n",
       "      <td>Louisiana</td>\n",
       "      <td>268613</td>\n",
       "      <td>6818</td>\n",
       "      <td>2.538224</td>\n",
       "    </tr>\n",
       "    <tr>\n",
       "      <th>15712</th>\n",
       "      <td>2020-12-13</td>\n",
       "      <td>Michigan</td>\n",
       "      <td>464606</td>\n",
       "      <td>11186</td>\n",
       "      <td>2.407631</td>\n",
       "    </tr>\n",
       "    <tr>\n",
       "      <th>15714</th>\n",
       "      <td>2020-12-13</td>\n",
       "      <td>Mississippi</td>\n",
       "      <td>179447</td>\n",
       "      <td>4199</td>\n",
       "      <td>2.339967</td>\n",
       "    </tr>\n",
       "    <tr>\n",
       "      <th>15710</th>\n",
       "      <td>2020-12-13</td>\n",
       "      <td>Maryland</td>\n",
       "      <td>234975</td>\n",
       "      <td>5117</td>\n",
       "      <td>2.177678</td>\n",
       "    </tr>\n",
       "  </tbody>\n",
       "</table>\n",
       "</div>"
      ],
      "text/plain": [
       "            date                 state   cases  deaths  death rate\n",
       "15722 2020-12-13              New York  780831   35198    4.507762\n",
       "15720 2020-12-13            New Jersey  402518   17751    4.409989\n",
       "15711 2020-12-13         Massachusetts  290578   11349    3.905664\n",
       "15695 2020-12-13           Connecticut  146761    5363    3.654241\n",
       "15697 2020-12-13  District of Columbia   24874     715    2.874487\n",
       "15729 2020-12-13          Pennsylvania  495906   12613    2.543426\n",
       "15708 2020-12-13             Louisiana  268613    6818    2.538224\n",
       "15712 2020-12-13              Michigan  464606   11186    2.407631\n",
       "15714 2020-12-13           Mississippi  179447    4199    2.339967\n",
       "15710 2020-12-13              Maryland  234975    5117    2.177678"
      ]
     },
     "execution_count": 5,
     "metadata": {},
     "output_type": "execute_result"
    }
   ],
   "source": [
    "# add \"death rate\" column with calculated percentage\n",
    "df_states['death rate'] = (df_states.deaths/df_states.cases) * 100\n",
    "\n",
    "# create DataFrame with the \"death rate %\" top 10 rankings\n",
    "df_top_rates = df_states.sort_values(by='death rate', ascending=False).head(10)\n",
    "\n",
    "# view DataFrame\n",
    "df_top_rates"
   ]
  },
  {
   "cell_type": "code",
   "execution_count": 6,
   "metadata": {},
   "outputs": [
    {
     "data": {
      "text/plain": [
       "<matplotlib.axes._subplots.AxesSubplot at 0x1bfb4d2b7c0>"
      ]
     },
     "execution_count": 6,
     "metadata": {},
     "output_type": "execute_result"
    },
    {
     "data": {
      "image/png": "[encoded data removed]",
      "text/plain": [
       "<Figure size 432x288 with 1 Axes>"
      ]
     },
     "metadata": {
      "needs_background": "light"
     },
     "output_type": "display_data"
    }
   ],
   "source": [
    "# create a visualization using seaborn bar plot\n",
    "sns.barplot(\n",
    "    data = df_top_rates, # .reset_index(), \n",
    "    x = 'death rate',\n",
    "    y = 'state')"
   ]
  },
  {
   "cell_type": "markdown",
   "metadata": {},
   "source": [
    "The bar plot validates our ranking data and allows us to visualize the states with the highest death rate. \n",
    "\n",
    "New York is currently listed within the top 10 states that has the highest death rates. In relation to the MTA, this confirms that the MTA would be one of the services that would be impacted heavily by the Covid-19 pandemic."
   ]
  },
  {
   "cell_type": "markdown",
   "metadata": {},
   "source": [
    "#### 2. Another analysis that we want to do is to see what the current cases and death count is across all states. Doing this will allow us to calculate a death rate using data from all states."
   ]
  },
  {
   "cell_type": "code",
   "execution_count": 7,
   "metadata": {},
   "outputs": [
    {
     "data": {
      "text/html": [
       "<div>\n",
       "<style scoped>\n",
       "    .dataframe tbody tr th:only-of-type {\n",
       "        vertical-align: middle;\n",
       "    }\n",
       "\n",
       "    .dataframe tbody tr th {\n",
       "        vertical-align: top;\n",
       "    }\n",
       "\n",
       "    .dataframe thead th {\n",
       "        text-align: right;\n",
       "    }\n",
       "</style>\n",
       "<table border=\"1\" class=\"dataframe\">\n",
       "  <thead>\n",
       "    <tr style=\"text-align: right;\">\n",
       "      <th></th>\n",
       "      <th>cases</th>\n",
       "      <th>deaths</th>\n",
       "      <th>death rate</th>\n",
       "    </tr>\n",
       "    <tr>\n",
       "      <th>date</th>\n",
       "      <th></th>\n",
       "      <th></th>\n",
       "      <th></th>\n",
       "    </tr>\n",
       "  </thead>\n",
       "  <tbody>\n",
       "    <tr>\n",
       "      <th>2020-12-13</th>\n",
       "      <td>16368840</td>\n",
       "      <td>299328</td>\n",
       "      <td>1.828645</td>\n",
       "    </tr>\n",
       "  </tbody>\n",
       "</table>\n",
       "</div>"
      ],
      "text/plain": [
       "               cases  deaths  death rate\n",
       "date                                    \n",
       "2020-12-13  16368840  299328    1.828645"
      ]
     },
     "execution_count": 7,
     "metadata": {},
     "output_type": "execute_result"
    }
   ],
   "source": [
    "# create DataFrame and store grouped data\n",
    "df_all_states = df_states.iloc[:, :4].groupby('date').sum()\n",
    "\n",
    "# add \"death rate\" column with calculated percentage\n",
    "df_all_states['death rate'] = (df_all_states.deaths/df_all_states.cases) * 100\n",
    "\n",
    "# view the DataFrame\n",
    "df_all_states"
   ]
  },
  {
   "cell_type": "markdown",
   "metadata": {},
   "source": [
    "### NY Times Covid-19 County Dataframe\n",
    "#### 1. We will first display the first 5 rows of our NY Times county DataFrame to get an idea of what the data looks like."
   ]
  },
  {
   "cell_type": "code",
   "execution_count": 8,
   "metadata": {},
   "outputs": [
    {
     "data": {
      "text/html": [
       "<div>\n",
       "<style scoped>\n",
       "    .dataframe tbody tr th:only-of-type {\n",
       "        vertical-align: middle;\n",
       "    }\n",
       "\n",
       "    .dataframe tbody tr th {\n",
       "        vertical-align: top;\n",
       "    }\n",
       "\n",
       "    .dataframe thead th {\n",
       "        text-align: right;\n",
       "    }\n",
       "</style>\n",
       "<table border=\"1\" class=\"dataframe\">\n",
       "  <thead>\n",
       "    <tr style=\"text-align: right;\">\n",
       "      <th></th>\n",
       "      <th>date</th>\n",
       "      <th>county</th>\n",
       "      <th>state</th>\n",
       "      <th>fips</th>\n",
       "      <th>cases</th>\n",
       "      <th>deaths</th>\n",
       "    </tr>\n",
       "  </thead>\n",
       "  <tbody>\n",
       "    <tr>\n",
       "      <th>0</th>\n",
       "      <td>2020-01-21</td>\n",
       "      <td>Snohomish</td>\n",
       "      <td>Washington</td>\n",
       "      <td>53061.0</td>\n",
       "      <td>1</td>\n",
       "      <td>0.0</td>\n",
       "    </tr>\n",
       "    <tr>\n",
       "      <th>1</th>\n",
       "      <td>2020-01-22</td>\n",
       "      <td>Snohomish</td>\n",
       "      <td>Washington</td>\n",
       "      <td>53061.0</td>\n",
       "      <td>1</td>\n",
       "      <td>0.0</td>\n",
       "    </tr>\n",
       "    <tr>\n",
       "      <th>2</th>\n",
       "      <td>2020-01-23</td>\n",
       "      <td>Snohomish</td>\n",
       "      <td>Washington</td>\n",
       "      <td>53061.0</td>\n",
       "      <td>1</td>\n",
       "      <td>0.0</td>\n",
       "    </tr>\n",
       "    <tr>\n",
       "      <th>3</th>\n",
       "      <td>2020-01-24</td>\n",
       "      <td>Cook</td>\n",
       "      <td>Illinois</td>\n",
       "      <td>17031.0</td>\n",
       "      <td>1</td>\n",
       "      <td>0.0</td>\n",
       "    </tr>\n",
       "    <tr>\n",
       "      <th>4</th>\n",
       "      <td>2020-01-24</td>\n",
       "      <td>Snohomish</td>\n",
       "      <td>Washington</td>\n",
       "      <td>53061.0</td>\n",
       "      <td>1</td>\n",
       "      <td>0.0</td>\n",
       "    </tr>\n",
       "  </tbody>\n",
       "</table>\n",
       "</div>"
      ],
      "text/plain": [
       "         date     county       state     fips  cases  deaths\n",
       "0  2020-01-21  Snohomish  Washington  53061.0      1     0.0\n",
       "1  2020-01-22  Snohomish  Washington  53061.0      1     0.0\n",
       "2  2020-01-23  Snohomish  Washington  53061.0      1     0.0\n",
       "3  2020-01-24       Cook    Illinois  17031.0      1     0.0\n",
       "4  2020-01-24  Snohomish  Washington  53061.0      1     0.0"
      ]
     },
     "execution_count": 8,
     "metadata": {},
     "output_type": "execute_result"
    }
   ],
   "source": [
    "# view the first 5 rows\n",
    "df_counties.head()"
   ]
  },
  {
   "cell_type": "markdown",
   "metadata": {},
   "source": [
    "**We have 6 columns:**\n",
    "\n",
    "* **date**: the date the data was reported\n",
    "* **county**: the county that the data was reported in \n",
    "* **state**: the state the county resides in\n",
    "* **fips**: a standard geographic identifier\n",
    "* **cases**: the total number of positive Covid-19 cases reported so far\n",
    "* **deaths**: the total number of deaths reported so far\n",
    "\n"
   ]
  },
  {
   "cell_type": "markdown",
   "metadata": {},
   "source": [
    "The data looks very similar to our state data. The main difference is the inclusion of the \"county\" column."
   ]
  },
  {
   "cell_type": "markdown",
   "metadata": {},
   "source": [
    "#### 2. The MTA opperates within New York City meaning that we will only need to focus on \"county\" equal to \"New York City\". Once filtered, we will do the same cleaning actions as before and then calculae the death rate and rate change.  We will also drop the \"state\" column as we don't need it anymore. "
   ]
  },
  {
   "cell_type": "code",
   "execution_count": 9,
   "metadata": {},
   "outputs": [
    {
     "data": {
      "text/html": [
       "<div>\n",
       "<style scoped>\n",
       "    .dataframe tbody tr th:only-of-type {\n",
       "        vertical-align: middle;\n",
       "    }\n",
       "\n",
       "    .dataframe tbody tr th {\n",
       "        vertical-align: top;\n",
       "    }\n",
       "\n",
       "    .dataframe thead th {\n",
       "        text-align: right;\n",
       "    }\n",
       "</style>\n",
       "<table border=\"1\" class=\"dataframe\">\n",
       "  <thead>\n",
       "    <tr style=\"text-align: right;\">\n",
       "      <th></th>\n",
       "      <th>county</th>\n",
       "      <th>cases</th>\n",
       "      <th>deaths</th>\n",
       "      <th>death rate</th>\n",
       "      <th>rate change</th>\n",
       "    </tr>\n",
       "    <tr>\n",
       "      <th>date</th>\n",
       "      <th></th>\n",
       "      <th></th>\n",
       "      <th></th>\n",
       "      <th></th>\n",
       "      <th></th>\n",
       "    </tr>\n",
       "  </thead>\n",
       "  <tbody>\n",
       "    <tr>\n",
       "      <th>2020-03-01</th>\n",
       "      <td>New York City</td>\n",
       "      <td>1</td>\n",
       "      <td>0.0</td>\n",
       "      <td>0.000000</td>\n",
       "      <td>NaN</td>\n",
       "    </tr>\n",
       "    <tr>\n",
       "      <th>2020-03-02</th>\n",
       "      <td>New York City</td>\n",
       "      <td>1</td>\n",
       "      <td>0.0</td>\n",
       "      <td>0.000000</td>\n",
       "      <td>NaN</td>\n",
       "    </tr>\n",
       "    <tr>\n",
       "      <th>2020-03-03</th>\n",
       "      <td>New York City</td>\n",
       "      <td>2</td>\n",
       "      <td>0.0</td>\n",
       "      <td>0.000000</td>\n",
       "      <td>NaN</td>\n",
       "    </tr>\n",
       "    <tr>\n",
       "      <th>2020-03-04</th>\n",
       "      <td>New York City</td>\n",
       "      <td>2</td>\n",
       "      <td>0.0</td>\n",
       "      <td>0.000000</td>\n",
       "      <td>NaN</td>\n",
       "    </tr>\n",
       "    <tr>\n",
       "      <th>2020-03-05</th>\n",
       "      <td>New York City</td>\n",
       "      <td>4</td>\n",
       "      <td>0.0</td>\n",
       "      <td>0.000000</td>\n",
       "      <td>NaN</td>\n",
       "    </tr>\n",
       "    <tr>\n",
       "      <th>2020-03-06</th>\n",
       "      <td>New York City</td>\n",
       "      <td>5</td>\n",
       "      <td>0.0</td>\n",
       "      <td>0.000000</td>\n",
       "      <td>NaN</td>\n",
       "    </tr>\n",
       "    <tr>\n",
       "      <th>2020-03-07</th>\n",
       "      <td>New York City</td>\n",
       "      <td>12</td>\n",
       "      <td>0.0</td>\n",
       "      <td>0.000000</td>\n",
       "      <td>NaN</td>\n",
       "    </tr>\n",
       "    <tr>\n",
       "      <th>2020-03-08</th>\n",
       "      <td>New York City</td>\n",
       "      <td>14</td>\n",
       "      <td>0.0</td>\n",
       "      <td>0.000000</td>\n",
       "      <td>NaN</td>\n",
       "    </tr>\n",
       "    <tr>\n",
       "      <th>2020-03-09</th>\n",
       "      <td>New York City</td>\n",
       "      <td>20</td>\n",
       "      <td>0.0</td>\n",
       "      <td>0.000000</td>\n",
       "      <td>NaN</td>\n",
       "    </tr>\n",
       "    <tr>\n",
       "      <th>2020-03-10</th>\n",
       "      <td>New York City</td>\n",
       "      <td>37</td>\n",
       "      <td>0.0</td>\n",
       "      <td>0.000000</td>\n",
       "      <td>NaN</td>\n",
       "    </tr>\n",
       "    <tr>\n",
       "      <th>2020-03-11</th>\n",
       "      <td>New York City</td>\n",
       "      <td>52</td>\n",
       "      <td>0.0</td>\n",
       "      <td>0.000000</td>\n",
       "      <td>NaN</td>\n",
       "    </tr>\n",
       "    <tr>\n",
       "      <th>2020-03-12</th>\n",
       "      <td>New York City</td>\n",
       "      <td>96</td>\n",
       "      <td>0.0</td>\n",
       "      <td>0.000000</td>\n",
       "      <td>NaN</td>\n",
       "    </tr>\n",
       "    <tr>\n",
       "      <th>2020-03-13</th>\n",
       "      <td>New York City</td>\n",
       "      <td>155</td>\n",
       "      <td>0.0</td>\n",
       "      <td>0.000000</td>\n",
       "      <td>NaN</td>\n",
       "    </tr>\n",
       "    <tr>\n",
       "      <th>2020-03-14</th>\n",
       "      <td>New York City</td>\n",
       "      <td>269</td>\n",
       "      <td>1.0</td>\n",
       "      <td>0.371747</td>\n",
       "      <td>inf</td>\n",
       "    </tr>\n",
       "    <tr>\n",
       "      <th>2020-03-15</th>\n",
       "      <td>New York City</td>\n",
       "      <td>330</td>\n",
       "      <td>5.0</td>\n",
       "      <td>1.515152</td>\n",
       "      <td>307.58</td>\n",
       "    </tr>\n",
       "  </tbody>\n",
       "</table>\n",
       "</div>"
      ],
      "text/plain": [
       "                   county  cases  deaths  death rate  rate change\n",
       "date                                                             \n",
       "2020-03-01  New York City      1     0.0    0.000000          NaN\n",
       "2020-03-02  New York City      1     0.0    0.000000          NaN\n",
       "2020-03-03  New York City      2     0.0    0.000000          NaN\n",
       "2020-03-04  New York City      2     0.0    0.000000          NaN\n",
       "2020-03-05  New York City      4     0.0    0.000000          NaN\n",
       "2020-03-06  New York City      5     0.0    0.000000          NaN\n",
       "2020-03-07  New York City     12     0.0    0.000000          NaN\n",
       "2020-03-08  New York City     14     0.0    0.000000          NaN\n",
       "2020-03-09  New York City     20     0.0    0.000000          NaN\n",
       "2020-03-10  New York City     37     0.0    0.000000          NaN\n",
       "2020-03-11  New York City     52     0.0    0.000000          NaN\n",
       "2020-03-12  New York City     96     0.0    0.000000          NaN\n",
       "2020-03-13  New York City    155     0.0    0.000000          NaN\n",
       "2020-03-14  New York City    269     1.0    0.371747          inf\n",
       "2020-03-15  New York City    330     5.0    1.515152       307.58"
      ]
     },
     "execution_count": 9,
     "metadata": {},
     "output_type": "execute_result"
    }
   ],
   "source": [
    "# create new DataFrame with our filter\n",
    "df_nyc = df_counties[df_counties.county == 'New York City'].copy()\n",
    "\n",
    "# convert the 'date' column to datetime format, errors param set to 'coerce'\n",
    "df_nyc.date = pd.to_datetime(df_nyc.date, errors='coerce')\n",
    "\n",
    "# set index as date\n",
    "df_nyc.set_index('date', inplace=True)\n",
    "\n",
    "# drop \"fips\" column as it's not relevant\n",
    "df_nyc.drop(columns=['fips', 'state'], inplace=True)\n",
    "\n",
    "# add \"death rate\" column with calculated percentage\n",
    "df_nyc['death rate'] = (df_nyc.deaths/df_nyc.cases) * 100\n",
    "\n",
    "# use pct_change method to calculate the changing day to day rate change\n",
    "df_nyc['rate change'] = (df_nyc['death rate'].pct_change().round(4))*100\n",
    "\n",
    "# view first 15 rows\n",
    "df_nyc.head(15)"
   ]
  },
  {
   "cell_type": "markdown",
   "metadata": {},
   "source": [
    "#### 3. Looking at our DataFrame, we have \"NaN\" listed as the rate change in the rows where we have a value for cases, but 0 for deaths. We also have \"inf\" listed as the rate change when we have our first row with a death. We need to do some actions to clean this."
   ]
  },
  {
   "cell_type": "code",
   "execution_count": 10,
   "metadata": {},
   "outputs": [
    {
     "data": {
      "text/html": [
       "<div>\n",
       "<style scoped>\n",
       "    .dataframe tbody tr th:only-of-type {\n",
       "        vertical-align: middle;\n",
       "    }\n",
       "\n",
       "    .dataframe tbody tr th {\n",
       "        vertical-align: top;\n",
       "    }\n",
       "\n",
       "    .dataframe thead th {\n",
       "        text-align: right;\n",
       "    }\n",
       "</style>\n",
       "<table border=\"1\" class=\"dataframe\">\n",
       "  <thead>\n",
       "    <tr style=\"text-align: right;\">\n",
       "      <th></th>\n",
       "      <th>county</th>\n",
       "      <th>cases</th>\n",
       "      <th>deaths</th>\n",
       "      <th>death rate</th>\n",
       "      <th>rate change</th>\n",
       "    </tr>\n",
       "    <tr>\n",
       "      <th>date</th>\n",
       "      <th></th>\n",
       "      <th></th>\n",
       "      <th></th>\n",
       "      <th></th>\n",
       "      <th></th>\n",
       "    </tr>\n",
       "  </thead>\n",
       "  <tbody>\n",
       "    <tr>\n",
       "      <th>2020-03-01</th>\n",
       "      <td>New York City</td>\n",
       "      <td>1</td>\n",
       "      <td>0.0</td>\n",
       "      <td>0.000000</td>\n",
       "      <td>0.00</td>\n",
       "    </tr>\n",
       "    <tr>\n",
       "      <th>2020-03-02</th>\n",
       "      <td>New York City</td>\n",
       "      <td>1</td>\n",
       "      <td>0.0</td>\n",
       "      <td>0.000000</td>\n",
       "      <td>0.00</td>\n",
       "    </tr>\n",
       "    <tr>\n",
       "      <th>2020-03-03</th>\n",
       "      <td>New York City</td>\n",
       "      <td>2</td>\n",
       "      <td>0.0</td>\n",
       "      <td>0.000000</td>\n",
       "      <td>0.00</td>\n",
       "    </tr>\n",
       "    <tr>\n",
       "      <th>2020-03-04</th>\n",
       "      <td>New York City</td>\n",
       "      <td>2</td>\n",
       "      <td>0.0</td>\n",
       "      <td>0.000000</td>\n",
       "      <td>0.00</td>\n",
       "    </tr>\n",
       "    <tr>\n",
       "      <th>2020-03-05</th>\n",
       "      <td>New York City</td>\n",
       "      <td>4</td>\n",
       "      <td>0.0</td>\n",
       "      <td>0.000000</td>\n",
       "      <td>0.00</td>\n",
       "    </tr>\n",
       "    <tr>\n",
       "      <th>2020-03-06</th>\n",
       "      <td>New York City</td>\n",
       "      <td>5</td>\n",
       "      <td>0.0</td>\n",
       "      <td>0.000000</td>\n",
       "      <td>0.00</td>\n",
       "    </tr>\n",
       "    <tr>\n",
       "      <th>2020-03-07</th>\n",
       "      <td>New York City</td>\n",
       "      <td>12</td>\n",
       "      <td>0.0</td>\n",
       "      <td>0.000000</td>\n",
       "      <td>0.00</td>\n",
       "    </tr>\n",
       "    <tr>\n",
       "      <th>2020-03-08</th>\n",
       "      <td>New York City</td>\n",
       "      <td>14</td>\n",
       "      <td>0.0</td>\n",
       "      <td>0.000000</td>\n",
       "      <td>0.00</td>\n",
       "    </tr>\n",
       "    <tr>\n",
       "      <th>2020-03-09</th>\n",
       "      <td>New York City</td>\n",
       "      <td>20</td>\n",
       "      <td>0.0</td>\n",
       "      <td>0.000000</td>\n",
       "      <td>0.00</td>\n",
       "    </tr>\n",
       "    <tr>\n",
       "      <th>2020-03-10</th>\n",
       "      <td>New York City</td>\n",
       "      <td>37</td>\n",
       "      <td>0.0</td>\n",
       "      <td>0.000000</td>\n",
       "      <td>0.00</td>\n",
       "    </tr>\n",
       "    <tr>\n",
       "      <th>2020-03-11</th>\n",
       "      <td>New York City</td>\n",
       "      <td>52</td>\n",
       "      <td>0.0</td>\n",
       "      <td>0.000000</td>\n",
       "      <td>0.00</td>\n",
       "    </tr>\n",
       "    <tr>\n",
       "      <th>2020-03-12</th>\n",
       "      <td>New York City</td>\n",
       "      <td>96</td>\n",
       "      <td>0.0</td>\n",
       "      <td>0.000000</td>\n",
       "      <td>0.00</td>\n",
       "    </tr>\n",
       "    <tr>\n",
       "      <th>2020-03-13</th>\n",
       "      <td>New York City</td>\n",
       "      <td>155</td>\n",
       "      <td>0.0</td>\n",
       "      <td>0.000000</td>\n",
       "      <td>0.00</td>\n",
       "    </tr>\n",
       "    <tr>\n",
       "      <th>2020-03-14</th>\n",
       "      <td>New York City</td>\n",
       "      <td>269</td>\n",
       "      <td>1.0</td>\n",
       "      <td>0.371747</td>\n",
       "      <td>0.00</td>\n",
       "    </tr>\n",
       "    <tr>\n",
       "      <th>2020-03-15</th>\n",
       "      <td>New York City</td>\n",
       "      <td>330</td>\n",
       "      <td>5.0</td>\n",
       "      <td>1.515152</td>\n",
       "      <td>307.58</td>\n",
       "    </tr>\n",
       "  </tbody>\n",
       "</table>\n",
       "</div>"
      ],
      "text/plain": [
       "                   county  cases  deaths  death rate  rate change\n",
       "date                                                             \n",
       "2020-03-01  New York City      1     0.0    0.000000         0.00\n",
       "2020-03-02  New York City      1     0.0    0.000000         0.00\n",
       "2020-03-03  New York City      2     0.0    0.000000         0.00\n",
       "2020-03-04  New York City      2     0.0    0.000000         0.00\n",
       "2020-03-05  New York City      4     0.0    0.000000         0.00\n",
       "2020-03-06  New York City      5     0.0    0.000000         0.00\n",
       "2020-03-07  New York City     12     0.0    0.000000         0.00\n",
       "2020-03-08  New York City     14     0.0    0.000000         0.00\n",
       "2020-03-09  New York City     20     0.0    0.000000         0.00\n",
       "2020-03-10  New York City     37     0.0    0.000000         0.00\n",
       "2020-03-11  New York City     52     0.0    0.000000         0.00\n",
       "2020-03-12  New York City     96     0.0    0.000000         0.00\n",
       "2020-03-13  New York City    155     0.0    0.000000         0.00\n",
       "2020-03-14  New York City    269     1.0    0.371747         0.00\n",
       "2020-03-15  New York City    330     5.0    1.515152       307.58"
      ]
     },
     "execution_count": 10,
     "metadata": {},
     "output_type": "execute_result"
    }
   ],
   "source": [
    "# replace np.inf with np.nan\n",
    "df_nyc['rate change'].replace(np.inf, np.nan, inplace=True)\n",
    "\n",
    "# fill np.NaN values with zero\n",
    "df_nyc['rate change'].fillna(0, inplace=True)\n",
    "\n",
    "# view first 15 rows\n",
    "df_nyc.head(15)"
   ]
  },
  {
   "cell_type": "markdown",
   "metadata": {},
   "source": [
    "### Analyzing the New York City Data\n",
    "#### 1. We will graph our data to see what the overall pictue looks like."
   ]
  },
  {
   "cell_type": "code",
   "execution_count": 11,
   "metadata": {},
   "outputs": [
    {
     "data": {
      "image/png": "[encoded data removed]",
      "text/plain": [
       "<Figure size 1080x360 with 1 Axes>"
      ]
     },
     "metadata": {
      "needs_background": "light"
     },
     "output_type": "display_data"
    }
   ],
   "source": [
    "# set plot size\n",
    "plt.figure(figsize=(15, 5))\n",
    "\n",
    "# seaborn line plot using NYC DataFrame\n",
    "sns.lineplot(data = df_nyc, x = df_nyc.index, y = 'death rate')\n",
    "\n",
    "# set X labels to rotate for better visibility\n",
    "plt.xticks(rotation=25)\n",
    "\n",
    "# set plot title\n",
    "plt.title('NYC Covid-19 Daily Death Rate')\n",
    "\n",
    "# display plot\n",
    "plt.show()"
   ]
  },
  {
   "cell_type": "markdown",
   "metadata": {},
   "source": [
    "Looking at our plot of the daily death rate, we can see that between the months of March and May 2020, the death rate had a fairly steep increase, and then held relativly steading for the next few months. We had some increases in July and August, but the death rate has been on a decline."
   ]
  },
  {
   "cell_type": "code",
   "execution_count": 12,
   "metadata": {},
   "outputs": [
    {
     "data": {
      "image/png": "[encoded data removed]",
      "text/plain": [
       "<Figure size 1080x360 with 1 Axes>"
      ]
     },
     "metadata": {
      "needs_background": "light"
     },
     "output_type": "display_data"
    }
   ],
   "source": [
    "# set plot size\n",
    "plt.figure(figsize=(15, 5))\n",
    "\n",
    "# seaborn line plot using NYC DataFrame\n",
    "sns.lineplot(data = df_nyc, x = df_nyc.index, y = 'rate change')\n",
    "\n",
    "# set X labels to rotate for better visibility\n",
    "plt.xticks(rotation=25)\n",
    "\n",
    "# set plot title\n",
    "plt.title('NYC Covid-19 Daily Change in Death Rate')\n",
    "\n",
    "# display plot\n",
    "plt.show()"
   ]
  },
  {
   "cell_type": "markdown",
   "metadata": {},
   "source": [
    "Looking at our plot of the daily change in the death rate, we see a huge spike which represents the initials deaths at the beginning of the pandemic. We can then see it fluctuate between March and May, and eventually holds steady from May onwards. The near steady line from May onwards signals that their hasn't been a large change in the death rate."
   ]
  },
  {
   "attachments": {},
   "cell_type": "markdown",
   "metadata": {},
   "source": [
    "<img src=\"mta.png\" alt=\"MTA Logo\" style=\"width: 200px;\"/>\n",
    "\n",
    "### MTAvCovid-19 Ridership Dataframe\n",
    "#### 1. We will first display the first 5 rows of our MTA DataFrame to get an idea of what the data looks like."
   ]
  },
  {
   "cell_type": "code",
   "execution_count": 13,
   "metadata": {},
   "outputs": [
    {
     "data": {
      "text/html": [
       "<div>\n",
       "<style scoped>\n",
       "    .dataframe tbody tr th:only-of-type {\n",
       "        vertical-align: middle;\n",
       "    }\n",
       "\n",
       "    .dataframe tbody tr th {\n",
       "        vertical-align: top;\n",
       "    }\n",
       "\n",
       "    .dataframe thead th {\n",
       "        text-align: right;\n",
       "    }\n",
       "</style>\n",
       "<table border=\"1\" class=\"dataframe\">\n",
       "  <thead>\n",
       "    <tr style=\"text-align: right;\">\n",
       "      <th></th>\n",
       "      <th>Date</th>\n",
       "      <th>Subways: Total Estimated Ridership</th>\n",
       "      <th>Subways: % Change From 2019 Equivalent Day</th>\n",
       "      <th>Buses: Total Estimated Ridership</th>\n",
       "      <th>Buses: % Change From 2019 Equivalent Day</th>\n",
       "      <th>LIRR: Total Estimated Ridership</th>\n",
       "      <th>LIRR: % Change From 2019 Monthly Weekday/Saturday/Sunday Average</th>\n",
       "      <th>Metro-North: Total Estimated Ridership</th>\n",
       "      <th>Metro-North: % Change From 2019 Monthly Weekday/Saturday/Sunday Average</th>\n",
       "      <th>Access-A-Ride: Total Scheduled Trips</th>\n",
       "      <th>Access-A-Ride: % Change From 2019 Monthly Weekday/Saturday/Sunday Average</th>\n",
       "      <th>Bridges and Tunnels: Total Traffic</th>\n",
       "      <th>Bridges and Tunnels: % Change From 2019 Equivalent Day</th>\n",
       "    </tr>\n",
       "  </thead>\n",
       "  <tbody>\n",
       "    <tr>\n",
       "      <th>0</th>\n",
       "      <td>12/13/2020</td>\n",
       "      <td>835144</td>\n",
       "      <td>-70.3%</td>\n",
       "      <td>515214</td>\n",
       "      <td>-51%</td>\n",
       "      <td>39300.0</td>\n",
       "      <td>-63%</td>\n",
       "      <td>36800.0</td>\n",
       "      <td>-66%</td>\n",
       "      <td>10208</td>\n",
       "      <td>-44.6%</td>\n",
       "      <td>659446</td>\n",
       "      <td>-21.6%</td>\n",
       "    </tr>\n",
       "    <tr>\n",
       "      <th>1</th>\n",
       "      <td>12/12/2020</td>\n",
       "      <td>1089908</td>\n",
       "      <td>-68.4%</td>\n",
       "      <td>663007</td>\n",
       "      <td>-48%</td>\n",
       "      <td>41800.0</td>\n",
       "      <td>-67%</td>\n",
       "      <td>46400.0</td>\n",
       "      <td>-70%</td>\n",
       "      <td>12307</td>\n",
       "      <td>-28.6%</td>\n",
       "      <td>671668</td>\n",
       "      <td>-23.8%</td>\n",
       "    </tr>\n",
       "    <tr>\n",
       "      <th>2</th>\n",
       "      <td>12/11/2020</td>\n",
       "      <td>1787536</td>\n",
       "      <td>-69.8%</td>\n",
       "      <td>996174</td>\n",
       "      <td>-53%</td>\n",
       "      <td>79700.0</td>\n",
       "      <td>-75%</td>\n",
       "      <td>55900.0</td>\n",
       "      <td>-80%</td>\n",
       "      <td>22751</td>\n",
       "      <td>-20.2%</td>\n",
       "      <td>821871</td>\n",
       "      <td>-16.1%</td>\n",
       "    </tr>\n",
       "    <tr>\n",
       "      <th>3</th>\n",
       "      <td>12/10/2020</td>\n",
       "      <td>1763724</td>\n",
       "      <td>-71.0%</td>\n",
       "      <td>1052370</td>\n",
       "      <td>-53%</td>\n",
       "      <td>76800.0</td>\n",
       "      <td>-76%</td>\n",
       "      <td>52800.0</td>\n",
       "      <td>-81%</td>\n",
       "      <td>22845</td>\n",
       "      <td>-19.8%</td>\n",
       "      <td>784406</td>\n",
       "      <td>-19.9%</td>\n",
       "    </tr>\n",
       "    <tr>\n",
       "      <th>4</th>\n",
       "      <td>12/9/2020</td>\n",
       "      <td>1704570</td>\n",
       "      <td>-71.4%</td>\n",
       "      <td>1009498</td>\n",
       "      <td>-54%</td>\n",
       "      <td>74700.0</td>\n",
       "      <td>-76%</td>\n",
       "      <td>50900.0</td>\n",
       "      <td>-82%</td>\n",
       "      <td>22459</td>\n",
       "      <td>-21.2%</td>\n",
       "      <td>749886</td>\n",
       "      <td>-15.0%</td>\n",
       "    </tr>\n",
       "  </tbody>\n",
       "</table>\n",
       "</div>"
      ],
      "text/plain": [
       "         Date  Subways: Total Estimated Ridership  \\\n",
       "0  12/13/2020                              835144   \n",
       "1  12/12/2020                             1089908   \n",
       "2  12/11/2020                             1787536   \n",
       "3  12/10/2020                             1763724   \n",
       "4   12/9/2020                             1704570   \n",
       "\n",
       "  Subways: % Change From 2019 Equivalent Day  \\\n",
       "0                                     -70.3%   \n",
       "1                                     -68.4%   \n",
       "2                                     -69.8%   \n",
       "3                                     -71.0%   \n",
       "4                                     -71.4%   \n",
       "\n",
       "   Buses: Total Estimated Ridership Buses: % Change From 2019 Equivalent Day  \\\n",
       "0                            515214                                     -51%   \n",
       "1                            663007                                     -48%   \n",
       "2                            996174                                     -53%   \n",
       "3                           1052370                                     -53%   \n",
       "4                           1009498                                     -54%   \n",
       "\n",
       "   LIRR: Total Estimated Ridership  \\\n",
       "0                          39300.0   \n",
       "1                          41800.0   \n",
       "2                          79700.0   \n",
       "3                          76800.0   \n",
       "4                          74700.0   \n",
       "\n",
       "  LIRR: % Change From 2019 Monthly Weekday/Saturday/Sunday Average  \\\n",
       "0                                               -63%                 \n",
       "1                                               -67%                 \n",
       "2                                               -75%                 \n",
       "3                                               -76%                 \n",
       "4                                               -76%                 \n",
       "\n",
       "   Metro-North: Total Estimated Ridership  \\\n",
       "0                                 36800.0   \n",
       "1                                 46400.0   \n",
       "2                                 55900.0   \n",
       "3                                 52800.0   \n",
       "4                                 50900.0   \n",
       "\n",
       "  Metro-North: % Change From 2019 Monthly Weekday/Saturday/Sunday Average  \\\n",
       "0                                               -66%                        \n",
       "1                                               -70%                        \n",
       "2                                               -80%                        \n",
       "3                                               -81%                        \n",
       "4                                               -82%                        \n",
       "\n",
       "   Access-A-Ride: Total Scheduled Trips  \\\n",
       "0                                 10208   \n",
       "1                                 12307   \n",
       "2                                 22751   \n",
       "3                                 22845   \n",
       "4                                 22459   \n",
       "\n",
       "  Access-A-Ride: % Change From 2019 Monthly Weekday/Saturday/Sunday Average  \\\n",
       "0                                             -44.6%                          \n",
       "1                                             -28.6%                          \n",
       "2                                             -20.2%                          \n",
       "3                                             -19.8%                          \n",
       "4                                             -21.2%                          \n",
       "\n",
       "   Bridges and Tunnels: Total Traffic  \\\n",
       "0                              659446   \n",
       "1                              671668   \n",
       "2                              821871   \n",
       "3                              784406   \n",
       "4                              749886   \n",
       "\n",
       "  Bridges and Tunnels: % Change From 2019 Equivalent Day  \n",
       "0                                             -21.6%      \n",
       "1                                             -23.8%      \n",
       "2                                             -16.1%      \n",
       "3                                             -19.9%      \n",
       "4                                             -15.0%      "
      ]
     },
     "execution_count": 13,
     "metadata": {},
     "output_type": "execute_result"
    }
   ],
   "source": [
    "# view the first 5 rows\n",
    "df_mta.head()"
   ]
  },
  {
   "cell_type": "markdown",
   "metadata": {},
   "source": [
    "The data provided includes more than just the subway and bus ridership numbers. As we are only interested in the subway and bus numbers, we will keep only the first 5 columns. We will also rename the columns to something less wordy."
   ]
  },
  {
   "cell_type": "markdown",
   "metadata": {},
   "source": [
    "#### 2. Cleaning the DataFrame"
   ]
  },
  {
   "cell_type": "code",
   "execution_count": 14,
   "metadata": {},
   "outputs": [
    {
     "data": {
      "text/html": [
       "<div>\n",
       "<style scoped>\n",
       "    .dataframe tbody tr th:only-of-type {\n",
       "        vertical-align: middle;\n",
       "    }\n",
       "\n",
       "    .dataframe tbody tr th {\n",
       "        vertical-align: top;\n",
       "    }\n",
       "\n",
       "    .dataframe thead th {\n",
       "        text-align: right;\n",
       "    }\n",
       "</style>\n",
       "<table border=\"1\" class=\"dataframe\">\n",
       "  <thead>\n",
       "    <tr style=\"text-align: right;\">\n",
       "      <th></th>\n",
       "      <th>Date</th>\n",
       "      <th>Subway Riders</th>\n",
       "      <th>Subway Change %</th>\n",
       "      <th>Bus Riders</th>\n",
       "      <th>Bus Change %</th>\n",
       "    </tr>\n",
       "  </thead>\n",
       "  <tbody>\n",
       "    <tr>\n",
       "      <th>0</th>\n",
       "      <td>12/13/2020</td>\n",
       "      <td>835144</td>\n",
       "      <td>-70.3%</td>\n",
       "      <td>515214</td>\n",
       "      <td>-51%</td>\n",
       "    </tr>\n",
       "    <tr>\n",
       "      <th>1</th>\n",
       "      <td>12/12/2020</td>\n",
       "      <td>1089908</td>\n",
       "      <td>-68.4%</td>\n",
       "      <td>663007</td>\n",
       "      <td>-48%</td>\n",
       "    </tr>\n",
       "    <tr>\n",
       "      <th>2</th>\n",
       "      <td>12/11/2020</td>\n",
       "      <td>1787536</td>\n",
       "      <td>-69.8%</td>\n",
       "      <td>996174</td>\n",
       "      <td>-53%</td>\n",
       "    </tr>\n",
       "    <tr>\n",
       "      <th>3</th>\n",
       "      <td>12/10/2020</td>\n",
       "      <td>1763724</td>\n",
       "      <td>-71.0%</td>\n",
       "      <td>1052370</td>\n",
       "      <td>-53%</td>\n",
       "    </tr>\n",
       "    <tr>\n",
       "      <th>4</th>\n",
       "      <td>12/9/2020</td>\n",
       "      <td>1704570</td>\n",
       "      <td>-71.4%</td>\n",
       "      <td>1009498</td>\n",
       "      <td>-54%</td>\n",
       "    </tr>\n",
       "  </tbody>\n",
       "</table>\n",
       "</div>"
      ],
      "text/plain": [
       "         Date  Subway Riders Subway Change %  Bus Riders Bus Change %\n",
       "0  12/13/2020         835144          -70.3%      515214         -51%\n",
       "1  12/12/2020        1089908          -68.4%      663007         -48%\n",
       "2  12/11/2020        1787536          -69.8%      996174         -53%\n",
       "3  12/10/2020        1763724          -71.0%     1052370         -53%\n",
       "4   12/9/2020        1704570          -71.4%     1009498         -54%"
      ]
     },
     "execution_count": 14,
     "metadata": {},
     "output_type": "execute_result"
    }
   ],
   "source": [
    "# resave the DataFrame with only the first 4 columns\n",
    "df_mta = df_mta.iloc[:,0:5]\n",
    "\n",
    "# rename columns inplace\n",
    "df_mta.rename({'Subways: Total Estimated Ridership':'Subway Riders'}, axis=1, inplace=True)\n",
    "df_mta.rename({'Subways: % Change From 2019 Equivalent Day':'Subway Change %'}, axis=1, inplace=True)\n",
    "df_mta.rename({'Buses: Total Estimated Ridership':'Bus Riders'}, axis=1, inplace=True)\n",
    "df_mta.rename({'Buses: % Change From 2019 Equivalent Day':'Bus Change %'}, axis=1, inplace=True)\n",
    "\n",
    "# view the first 5 rows\n",
    "df_mta.head()"
   ]
  },
  {
   "cell_type": "markdown",
   "metadata": {},
   "source": [
    "#### 3. We will check the data type for each column to make sure that we can do some statistics. The % signs on our change columns suggests that we have some objects and not integers/floats."
   ]
  },
  {
   "cell_type": "code",
   "execution_count": 15,
   "metadata": {},
   "outputs": [
    {
     "data": {
      "text/plain": [
       "Date               object\n",
       "Subway Riders       int64\n",
       "Subway Change %    object\n",
       "Bus Riders          int64\n",
       "Bus Change %       object\n",
       "dtype: object"
      ]
     },
     "execution_count": 15,
     "metadata": {},
     "output_type": "execute_result"
    }
   ],
   "source": [
    "# check data types\n",
    "df_mta.dtypes"
   ]
  },
  {
   "attachments": {},
   "cell_type": "markdown",
   "metadata": {},
   "source": [
    "As expected, this will be a problem for us so we will need to convert our columns.\n",
    "\n",
    "***While preparing this Notebook, a major issue that I noticed was that the MTA data did not get updated every single day. Due to this, there were times where 2-3 days of data were missing at a time. There were also cases where the date was listed, but \"TBD\" was shown as the column values. In order to take this into consideration, we will do a convertion on the \"Subway Riders\" and \"Bus Riders\" columns even though we will see then as int64 from time to time. Not doing this conversion would cause the Notebook's code to not work correctly. See below for an example of when we have \"TBD\" as our data:***\n",
    "\n",
    "<img src=\"Dataframe.png\" alt=\"Bad_Data_Image\" style=\"width: 500px;\"/>"
   ]
  },
  {
   "cell_type": "code",
   "execution_count": 16,
   "metadata": {},
   "outputs": [
    {
     "data": {
      "text/plain": [
       "Date               datetime64[ns]\n",
       "Subway Riders               int64\n",
       "Subway Change %           float64\n",
       "Bus Riders                  int64\n",
       "Bus Change %                int64\n",
       "dtype: object"
      ]
     },
     "execution_count": 16,
     "metadata": {},
     "output_type": "execute_result"
    }
   ],
   "source": [
    "# convert the 'date' column to datetime format, errors param set to 'coerce'\n",
    "df_mta.Date = pd.to_datetime(df_mta.Date, errors='coerce')\n",
    "\n",
    "# convert columns using to_numeric\n",
    "df_mta['Subway Riders'] = pd.to_numeric(df_mta['Subway Riders'], errors='coerce')\n",
    "df_mta['Bus Riders'] = pd.to_numeric(df_mta['Bus Riders'], errors='coerce')\n",
    "\n",
    "# lambda function to split on %\n",
    "df_mta['Subway Change %'] = df_mta['Subway Change %'].apply(lambda x: x.split('%')[0])\n",
    "df_mta['Bus Change %'] = df_mta['Bus Change %'].apply(lambda x: x.split('%')[0])\n",
    "\n",
    "# convert change columns using to_numeric\n",
    "df_mta['Subway Change %'] = pd.to_numeric(df_mta['Subway Change %'], errors='coerce')\n",
    "df_mta['Bus Change %'] = pd.to_numeric(df_mta['Bus Change %'], errors='coerce')\n",
    "\n",
    "# re-check data types\n",
    "df_mta.dtypes"
   ]
  },
  {
   "cell_type": "markdown",
   "metadata": {},
   "source": [
    "We now have proper data types on our MTA DataFrame."
   ]
  },
  {
   "cell_type": "markdown",
   "metadata": {},
   "source": [
    "#### 4. We will set the \"date\" column as our index and create a new column with the calculation for the total number of riders each day across both busses and subways."
   ]
  },
  {
   "cell_type": "code",
   "execution_count": 17,
   "metadata": {},
   "outputs": [
    {
     "data": {
      "text/html": [
       "<div>\n",
       "<style scoped>\n",
       "    .dataframe tbody tr th:only-of-type {\n",
       "        vertical-align: middle;\n",
       "    }\n",
       "\n",
       "    .dataframe tbody tr th {\n",
       "        vertical-align: top;\n",
       "    }\n",
       "\n",
       "    .dataframe thead th {\n",
       "        text-align: right;\n",
       "    }\n",
       "</style>\n",
       "<table border=\"1\" class=\"dataframe\">\n",
       "  <thead>\n",
       "    <tr style=\"text-align: right;\">\n",
       "      <th></th>\n",
       "      <th>Subway Riders</th>\n",
       "      <th>Subway Change %</th>\n",
       "      <th>Bus Riders</th>\n",
       "      <th>Bus Change %</th>\n",
       "      <th>Total Riders</th>\n",
       "    </tr>\n",
       "    <tr>\n",
       "      <th>Date</th>\n",
       "      <th></th>\n",
       "      <th></th>\n",
       "      <th></th>\n",
       "      <th></th>\n",
       "      <th></th>\n",
       "    </tr>\n",
       "  </thead>\n",
       "  <tbody>\n",
       "    <tr>\n",
       "      <th>2020-12-13</th>\n",
       "      <td>835144</td>\n",
       "      <td>-70.3</td>\n",
       "      <td>515214</td>\n",
       "      <td>-51</td>\n",
       "      <td>1350358</td>\n",
       "    </tr>\n",
       "    <tr>\n",
       "      <th>2020-12-12</th>\n",
       "      <td>1089908</td>\n",
       "      <td>-68.4</td>\n",
       "      <td>663007</td>\n",
       "      <td>-48</td>\n",
       "      <td>1752915</td>\n",
       "    </tr>\n",
       "    <tr>\n",
       "      <th>2020-12-11</th>\n",
       "      <td>1787536</td>\n",
       "      <td>-69.8</td>\n",
       "      <td>996174</td>\n",
       "      <td>-53</td>\n",
       "      <td>2783710</td>\n",
       "    </tr>\n",
       "    <tr>\n",
       "      <th>2020-12-10</th>\n",
       "      <td>1763724</td>\n",
       "      <td>-71.0</td>\n",
       "      <td>1052370</td>\n",
       "      <td>-53</td>\n",
       "      <td>2816094</td>\n",
       "    </tr>\n",
       "    <tr>\n",
       "      <th>2020-12-09</th>\n",
       "      <td>1704570</td>\n",
       "      <td>-71.4</td>\n",
       "      <td>1009498</td>\n",
       "      <td>-54</td>\n",
       "      <td>2714068</td>\n",
       "    </tr>\n",
       "  </tbody>\n",
       "</table>\n",
       "</div>"
      ],
      "text/plain": [
       "            Subway Riders  Subway Change %  Bus Riders  Bus Change %  \\\n",
       "Date                                                                   \n",
       "2020-12-13         835144            -70.3      515214           -51   \n",
       "2020-12-12        1089908            -68.4      663007           -48   \n",
       "2020-12-11        1787536            -69.8      996174           -53   \n",
       "2020-12-10        1763724            -71.0     1052370           -53   \n",
       "2020-12-09        1704570            -71.4     1009498           -54   \n",
       "\n",
       "            Total Riders  \n",
       "Date                      \n",
       "2020-12-13       1350358  \n",
       "2020-12-12       1752915  \n",
       "2020-12-11       2783710  \n",
       "2020-12-10       2816094  \n",
       "2020-12-09       2714068  "
      ]
     },
     "execution_count": 17,
     "metadata": {},
     "output_type": "execute_result"
    }
   ],
   "source": [
    "# set index as date\n",
    "df_mta.set_index('Date', inplace=True)\n",
    "\n",
    "# create new column as sum of subway and bus riders\n",
    "df_mta['Total Riders'] = df_mta['Subway Riders'] + df_mta['Bus Riders']\n",
    "\n",
    "# drop rows with NaN as they are not updated yet\n",
    "df_mta.dropna(axis=0, how='any', inplace=True)\n",
    "\n",
    "# view the first 5 rows\n",
    "df_mta.head()"
   ]
  },
  {
   "cell_type": "markdown",
   "metadata": {},
   "source": [
    "#### 5. We will graph our data to visualize the trends in the numbers."
   ]
  },
  {
   "cell_type": "code",
   "execution_count": 18,
   "metadata": {},
   "outputs": [
    {
     "data": {
      "image/png": "[encoded data removed]",
      "text/plain": [
       "<Figure size 1080x360 with 1 Axes>"
      ]
     },
     "metadata": {
      "needs_background": "light"
     },
     "output_type": "display_data"
    }
   ],
   "source": [
    "# set plot size\n",
    "plt.figure(figsize=(15, 5))\n",
    "\n",
    "# seaborn line plot using NYC DataFrame\n",
    "sns.lineplot(data = df_mta, x = df_mta.index, y = 'Total Riders')\n",
    "\n",
    "# set X labels to rotate for better visibility\n",
    "plt.xticks(rotation=25)\n",
    "\n",
    "# set plot title\n",
    "plt.title('MTA Subway and Bus Ridership')\n",
    "\n",
    "# display plot\n",
    "plt.show()"
   ]
  },
  {
   "cell_type": "markdown",
   "metadata": {},
   "source": [
    "Looking at the line plot, we can see that the total number of riders dropped significantly at the beginning of the Pandemic. The ridership numbers continued to stay low for the next few months, with a gradual increase starting in mid April."
   ]
  },
  {
   "cell_type": "code",
   "execution_count": 19,
   "metadata": {},
   "outputs": [
    {
     "data": {
      "image/png": "[encoded data removed]",
      "text/plain": [
       "<Figure size 1080x360 with 1 Axes>"
      ]
     },
     "metadata": {
      "needs_background": "light"
     },
     "output_type": "display_data"
    }
   ],
   "source": [
    "# set plot size\n",
    "plt.figure(figsize=(15, 5))\n",
    "\n",
    "# seaborn line plot using NYC DataFrame\n",
    "sns.lineplot(data = df_mta, x = df_mta.index, y = 'Subway Change %')\n",
    "\n",
    "# set X labels to rotate for better visibility\n",
    "plt.xticks(rotation=25)\n",
    "\n",
    "# set plot title\n",
    "plt.title('MTA Subway Ridership Change %')\n",
    "\n",
    "# display plot\n",
    "plt.show()"
   ]
  },
  {
   "cell_type": "markdown",
   "metadata": {},
   "source": [
    "Looking at the Subway ridership % change between 2019 and 2020, we see the same trend as our total ridership numbers. There was a drastic drop starting in March, and a slow recovery that's still showing more than a 60% drop in ridership numbers."
   ]
  },
  {
   "cell_type": "code",
   "execution_count": 20,
   "metadata": {},
   "outputs": [
    {
     "data": {
      "image/png": "[encoded data removed]",
      "text/plain": [
       "<Figure size 1080x360 with 1 Axes>"
      ]
     },
     "metadata": {
      "needs_background": "light"
     },
     "output_type": "display_data"
    }
   ],
   "source": [
    "# set plot size\n",
    "plt.figure(figsize=(15, 5))\n",
    "\n",
    "# seaborn line plot using NYC DataFrame\n",
    "sns.lineplot(data = df_mta, x = df_mta.index, y = 'Bus Change %')\n",
    "\n",
    "# set X labels to rotate for better visibility\n",
    "plt.xticks(rotation=25)\n",
    "\n",
    "# set plot title\n",
    "plt.title('MTA Bus Ridership Change %')\n",
    "\n",
    "# display plot\n",
    "plt.show()"
   ]
  },
  {
   "cell_type": "markdown",
   "metadata": {},
   "source": [
    "Looking at the Bus ridership % change between 2019 and 2020, we see a similar drop in March, however, there higher rate of recover when compared to the Subway numbers. At the end of June and beginning of July, the change in number of riders went over 0.0%, which means that there was an increae in riders on busses when compared to last year."
   ]
  },
  {
   "cell_type": "markdown",
   "metadata": {},
   "source": [
    "### Conclusion\n",
    "\n",
    "The question that we were trying to answer was:\n",
    "\n",
    "> **Does the mortality rate of Covid-19 in New York City have a correlation to the MTA ridership numbers?**\n",
    "\n",
    "After analyzing our data, we can confirm that **Yes**, the death rate does have a correlation to the MTA ridership numbers. The death rate in the beginning of the pandemic increased failry rapidly as the number of cases were low and the deaths were increasing. This increasing death rate spiked in March, and as seen on our plots, coencides with the drastic drop in ridership numbers.\n",
    "\n",
    "As of August 2020, the death rate has been on a decline, but ridership numbers have started trending back up starting in May. The ridership numbers are drasticaly lower, maintaining more than a 60% change when compared to last year, which means that even though we see a upward trend in rider numbers, the impact of Covid-19 effects are still heavily present and is still affecting the MTA."
   ]
  },
  {
   "cell_type": "code",
   "execution_count": null,
   "metadata": {},
   "outputs": [],
   "source": []
  }
 ],
 "metadata": {
  "kernelspec": {
   "display_name": "Python 3",
   "language": "python",
   "name": "python3"
  },
  "language_info": {
   "codemirror_mode": {
    "name": "ipython",
    "version": 3
   },
   "file_extension": ".py",
   "mimetype": "text/x-python",
   "name": "python",
   "nbconvert_exporter": "python",
   "pygments_lexer": "ipython3",
   "version": "3.8.3"
  }
 },
 "nbformat": 4,
 "nbformat_minor": 4
}
